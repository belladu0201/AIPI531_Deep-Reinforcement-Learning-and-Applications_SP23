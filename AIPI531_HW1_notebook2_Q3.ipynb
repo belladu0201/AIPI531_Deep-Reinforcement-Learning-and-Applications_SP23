{
  "nbformat": 4,
  "nbformat_minor": 0,
  "metadata": {
    "colab": {
      "provenance": [],
      "authorship_tag": "ABX9TyPKFAaZLAr6EJY33WaVjcpK",
      "include_colab_link": true
    },
    "kernelspec": {
      "name": "python3",
      "display_name": "Python 3"
    },
    "language_info": {
      "name": "python"
    }
  },
  "cells": [
    {
      "cell_type": "markdown",
      "metadata": {
        "id": "view-in-github",
        "colab_type": "text"
      },
      "source": [
        "<a href=\"https://colab.research.google.com/github/belladu0201/AIPI531_Deep-Reinforcement-Learning-and-Applications_SP23/blob/main/AIPI531_HW1_notebook2_Q3.ipynb\" target=\"_parent\"><img src=\"https://colab.research.google.com/assets/colab-badge.svg\" alt=\"Open In Colab\"/></a>"
      ]
    },
    {
      "cell_type": "markdown",
      "source": [
        "# AIPI 531: Deep Reinforcement Learning and Applications (SPRING 23)\n",
        "Name: Beibei Du\n"
      ],
      "metadata": {
        "id": "9rVAy3Rmkhzb"
      }
    },
    {
      "cell_type": "markdown",
      "source": [
        "## Question 3 (AIPI 531)Compare the n-step advantage with n-step return (mentioned in the class), vanilla advantage, GAE, as well as MC advantage for A2C algorithm\n",
        "### Requirements:\n",
        "- Compare the n-step advantage with the (vanilla) advantage,\n",
        "MC advantage, as well as GAE. Note that MC advantage is\n",
        "just optional for this assignment."
      ],
      "metadata": {
        "id": "6oJdgW-KkkVA"
      }
    },
    {
      "cell_type": "code",
      "source": [
        "# sync with drive\n",
        "from google.colab import drive\n",
        "drive.mount('/content/drive')\n",
        "\n",
        "# step4 in the setup\n",
        "import os\n",
        "os.chdir('/content/drive/My Drive/AIPI531/stable-baselines3')\n",
        "# !ls\n",
        "\n",
        "import stable_baselines3"
      ],
      "metadata": {
        "id": "-5CejMLfkjuo",
        "colab": {
          "base_uri": "https://localhost:8080/"
        },
        "outputId": "0905be4f-8e5d-444f-dc9c-8954194d6ad8"
      },
      "execution_count": 12,
      "outputs": [
        {
          "output_type": "stream",
          "name": "stdout",
          "text": [
            "Drive already mounted at /content/drive; to attempt to forcibly remount, call drive.mount(\"/content/drive\", force_remount=True).\n"
          ]
        }
      ]
    },
    {
      "cell_type": "code",
      "execution_count": 13,
      "metadata": {
        "id": "DpxC2fZPkaAm"
      },
      "outputs": [],
      "source": [
        "# IMPORT PACKAGES\n",
        "import gym\n",
        "import numpy as np\n",
        "\n",
        "from stable_baselines3.ppo import MlpPolicy\n",
        "from stable_baselines3 import A2C\n",
        "from stable_baselines3.common.evaluation import evaluate_policy"
      ]
    },
    {
      "cell_type": "markdown",
      "source": [
        "##  Monte-Carlo advantage (gae_lambda = 1.0 according to documentation)"
      ],
      "metadata": {
        "id": "EJa0CB9gVE5E"
      }
    },
    {
      "cell_type": "code",
      "source": [
        "env = gym.make('CartPole-v1')\n",
        "\n",
        "model = A2C(MlpPolicy, env, verbose=0, tensorboard_log=\"./a2c_CartPole-v1_tensorboard/\", gae_lambda = 1.0).learn(total_timesteps=100000)"
      ],
      "metadata": {
        "colab": {
          "base_uri": "https://localhost:8080/"
        },
        "id": "5bC57EkST8W-",
        "outputId": "d5b98445-4653-4da0-cacd-16cdf74a7150"
      },
      "execution_count": 14,
      "outputs": [
        {
          "output_type": "stream",
          "name": "stderr",
          "text": [
            "/usr/local/lib/python3.8/dist-packages/gym/core.py:317: DeprecationWarning: \u001b[33mWARN: Initializing wrapper in old step API which returns one bool instead of two. It is recommended to set `new_step_api=True` to use new step API. This will be the default behaviour in future.\u001b[0m\n",
            "  deprecation(\n",
            "/usr/local/lib/python3.8/dist-packages/gym/wrappers/step_api_compatibility.py:39: DeprecationWarning: \u001b[33mWARN: Initializing environment in old step API which returns one bool instead of two. It is recommended to set `new_step_api=True` to use new step API. This will be the default behaviour in future.\u001b[0m\n",
            "  deprecation(\n"
          ]
        }
      ]
    },
    {
      "cell_type": "code",
      "source": [
        "eval_env = gym.make('CartPole-v1')\n",
        "\n",
        "# Random Agent, before training\n",
        "mean_reward, std_reward = evaluate_policy(model, eval_env, n_eval_episodes=100)\n",
        "\n",
        "print(f\"mean_reward:{mean_reward:.2f} +/- {std_reward:.2f}\")"
      ],
      "metadata": {
        "colab": {
          "base_uri": "https://localhost:8080/"
        },
        "id": "s2t8-MklUmM0",
        "outputId": "f3a670e6-0cef-4b5d-9a2d-0c588f880d1e"
      },
      "execution_count": 15,
      "outputs": [
        {
          "output_type": "stream",
          "name": "stderr",
          "text": [
            "/content/drive/Othercomputers/My MacBook Pro/AIPI531/stable-baselines3/stable_baselines3/common/evaluation.py:67: UserWarning: Evaluation environment is not wrapped with a ``Monitor`` wrapper. This may result in reporting modified episode lengths and rewards, if other wrappers happen to modify these. Consider wrapping environment first with ``Monitor`` wrapper.\n",
            "  warnings.warn(\n"
          ]
        },
        {
          "output_type": "stream",
          "name": "stdout",
          "text": [
            "mean_reward:500.00 +/- 0.00\n"
          ]
        }
      ]
    },
    {
      "cell_type": "markdown",
      "source": [
        "## Vanilla Advantage (gae_lambda = 0.0)"
      ],
      "metadata": {
        "id": "5hlwVkeNWOcU"
      }
    },
    {
      "cell_type": "code",
      "source": [
        "env = gym.make('CartPole-v1')\n",
        "\n",
        "model = A2C(MlpPolicy, env, verbose=0, gae_lambda = 0.0).learn(total_timesteps=100000)"
      ],
      "metadata": {
        "id": "qHeIcYytVJPY"
      },
      "execution_count": 16,
      "outputs": []
    },
    {
      "cell_type": "code",
      "source": [
        "eval_env = gym.make('CartPole-v1')\n",
        "\n",
        "# Random Agent, before training\n",
        "mean_reward, std_reward = evaluate_policy(model, eval_env, n_eval_episodes=100)\n",
        "\n",
        "print(f\"mean_reward:{mean_reward:.2f} +/- {std_reward:.2f}\")"
      ],
      "metadata": {
        "colab": {
          "base_uri": "https://localhost:8080/"
        },
        "id": "EUnc67hzWU0J",
        "outputId": "f564ce11-7548-4973-955f-952f03428b9d"
      },
      "execution_count": 17,
      "outputs": [
        {
          "output_type": "stream",
          "name": "stdout",
          "text": [
            "mean_reward:42.89 +/- 11.60\n"
          ]
        }
      ]
    },
    {
      "cell_type": "markdown",
      "source": [
        "## N-step return advantage: set gae_lambda to be 0.75. This is a lever to control the tradeoff between bias and variance. When the lambda value is closer to 1, then the future reward is taking larger resposibility; if it is close to 0, then the current reward or near future reward is more important."
      ],
      "metadata": {
        "id": "6jW_4LVUWWsc"
      }
    },
    {
      "cell_type": "code",
      "source": [
        "env = gym.make('CartPole-v1')\n",
        "\n",
        "model = A2C(MlpPolicy, env, verbose=0, gae_lambda = 0.75).learn(total_timesteps=100000)"
      ],
      "metadata": {
        "id": "74DyRd5UY0nr"
      },
      "execution_count": 18,
      "outputs": []
    },
    {
      "cell_type": "code",
      "source": [
        "eval_env = gym.make('CartPole-v1')\n",
        "\n",
        "# Random Agent, before training\n",
        "mean_reward, std_reward = evaluate_policy(model, eval_env, n_eval_episodes=100)\n",
        "\n",
        "print(f\"mean_reward:{mean_reward:.2f} +/- {std_reward:.2f}\")"
      ],
      "metadata": {
        "colab": {
          "base_uri": "https://localhost:8080/"
        },
        "id": "Ibx56gRhZg_n",
        "outputId": "2d1a94ca-b06a-4a1d-8501-7115f0ec1365"
      },
      "execution_count": 19,
      "outputs": [
        {
          "output_type": "stream",
          "name": "stdout",
          "text": [
            "mean_reward:231.31 +/- 5.30\n"
          ]
        }
      ]
    },
    {
      "cell_type": "markdown",
      "source": [
        "### Comparison\n",
        "We can clearly see that the N-step advantage has a mean reward between the vanilla advantage and the MC advantage."
      ],
      "metadata": {
        "id": "_A80l61TeL9w"
      }
    },
    {
      "cell_type": "markdown",
      "source": [
        "## Reference:\n",
        "- https://spinningup.readthedocs.io/zh_CN/latest/algorithms/vpg.html\n",
        "- https://medium.com/analytics-vidhya/a-deep-dive-into-vanilla-policy-gradients-3a79a95f3334"
      ],
      "metadata": {
        "id": "YJqpn9yrZiEH"
      }
    }
  ]
}